{
 "cells": [
  {
   "cell_type": "code",
   "execution_count": null,
   "metadata": {},
   "outputs": [
    {
     "ename": "SystemExit",
     "evalue": "-1",
     "output_type": "error",
     "traceback": [
      "An exception has occurred, use %tb to see the full traceback.\n",
      "\u001b[1;31mSystemExit\u001b[0m\u001b[1;31m:\u001b[0m -1\n"
     ]
    },
    {
     "name": "stderr",
     "output_type": "stream",
     "text": [
      "E:\\app\\anaconda\\lib\\site-packages\\IPython\\core\\interactiveshell.py:3333: UserWarning: To exit: use 'exit', 'quit', or Ctrl-D.\n",
      "  warn(\"To exit: use 'exit', 'quit', or Ctrl-D.\", stacklevel=1)\n"
     ]
    }
   ],
   "source": [
    "from PyQt5.uic import loadUi\n",
    "from PyQt5.QtCore import pyqtSlot\n",
    "from PyQt5 import QtWidgets\n",
    "from PyQt5.QtWidgets import QApplication, QDialog, QMainWindow\n",
    "import sys\n",
    "from subprocess import call\n",
    "\n",
    "\n",
    "class ui_Dialog(QMainWindow):\n",
    "    def __init__(self):\n",
    "        super(ui_Dialog, self).__init__()\n",
    "        loadUi(\"mainwindow.ui\", self)\n",
    "        self.start.clicked.connect(self.runstr)\n",
    "        self.about.clicked.connect(self.runabt)\n",
    "        self._new_window = None\n",
    "    @pyqtSlot()\n",
    "    def menu(self):\n",
    "        self._new_window.hide()\n",
    "        self._new_window = ui_Dialog()\n",
    "        self._new_window.show()\n",
    "\n",
    "    def runabt(self):\n",
    "        \"\"\"\n",
    "        Called when the user presses the Run button\n",
    "        \"\"\"\n",
    "        ui.hide()  # hide the main window\n",
    "        self.aboutfunc()  # Create and open new output window\n",
    "    def runstr(self):\n",
    "        \"\"\"\n",
    "        Called when the user presses the Run button\n",
    "        \"\"\"\n",
    "        ui.hide()  # hide the main window\n",
    "        self.startfunc()  # Create and open new output window\n",
    "    \n",
    "    def aboutfunc(self):\n",
    "        self._new_window = loadUi(\"about.ui\", self)\n",
    "        self._new_window.show()\n",
    "        self.menuabout.clicked.connect(self.menu)\n",
    "    def startfunc(self):\n",
    "        %run RTObj-mk2.ipynb\n",
    "        sys.exit(app.exec_())\n",
    "\n",
    "if __name__ == \"__main__\":\n",
    "    app = QApplication(sys.argv)\n",
    "    ui = ui_Dialog()\n",
    "    ui.show()\n",
    "    widget = QtWidgets.QStackedWidget\n",
    "    sys.exit(app.exec_())"
   ]
  },
  {
   "cell_type": "code",
   "execution_count": null,
   "metadata": {},
   "outputs": [],
   "source": []
  }
 ],
 "metadata": {
  "kernelspec": {
   "display_name": "Python 3",
   "language": "python",
   "name": "python3"
  },
  "language_info": {
   "codemirror_mode": {
    "name": "ipython",
    "version": 3
   },
   "file_extension": ".py",
   "mimetype": "text/x-python",
   "name": "python",
   "nbconvert_exporter": "python",
   "pygments_lexer": "ipython3",
   "version": "3.7.3"
  }
 },
 "nbformat": 4,
 "nbformat_minor": 2
}
